{
 "cells": [
  {
   "cell_type": "code",
   "execution_count": 1,
   "metadata": {},
   "outputs": [],
   "source": [
    "import os\n",
    "import gc\n",
    "import logging\n",
    "from random import sample\n",
    "from urllib.request import urlopen\n",
    "import numpy as np\n",
    "import itertools\n",
    "from tqdm import tqdm, trange\n",
    "import sklearn as sk\n",
    "import sklearn.linear_model\n",
    "import torch\n",
    "from torch.nn import CrossEntropyLoss\n",
    "from torch.utils.data import DataLoader, RandomSampler, SequentialSampler, TensorDataset\n",
    "from transformers import BertTokenizer, BertModel, pipeline\n",
    "logger = logging.getLogger(__name__)"
   ]
  },
  {
   "cell_type": "code",
   "execution_count": 2,
   "metadata": {},
   "outputs": [],
   "source": [
    "from sklearn.model_selection import KFold\n",
    "from sklearn.neighbors import KNeighborsClassifier\n",
    "from sklearn.metrics import roc_curve, auc\n",
    "\n",
    "from sklearn.model_selection import cross_val_score\n",
    "import matplotlib.pyplot as plt"
   ]
  },
  {
   "cell_type": "code",
   "execution_count": 3,
   "metadata": {},
   "outputs": [],
   "source": [
    "true_labels = np.load(\"data/true_labels.eng.train.npy\")"
   ]
  },
  {
   "cell_type": "code",
   "execution_count": 4,
   "metadata": {},
   "outputs": [],
   "source": [
    "representation = np.load(\"data/representation.eng.train.npy\")"
   ]
  },
  {
   "cell_type": "code",
   "execution_count": 5,
   "metadata": {},
   "outputs": [
    {
     "name": "stdout",
     "output_type": "stream",
     "text": [
      "814372 (814372, 768)\n",
      "814372 (814372,)\n"
     ]
    }
   ],
   "source": [
    "print(len(representation), representation.shape)\n",
    "print(len(true_labels), true_labels.shape)\n",
    "\n",
    "data_simplified = False\n",
    "\n",
    "if data_simplified:\n",
    "    representation_simplified = representation[:10000]\n",
    "    true_labels_simplified = true_labels[:10000]    "
   ]
  },
  {
   "cell_type": "code",
   "execution_count": 6,
   "metadata": {},
   "outputs": [
    {
     "name": "stdout",
     "output_type": "stream",
     "text": [
      "our current labels are ['B-LOC' 'B-MISC' 'B-ORG' 'I-LOC' 'I-MISC' 'I-ORG' 'I-PER' 'O']\n",
      "the convert_dict is  {'B-LOC': 0, 'B-MISC': 0, 'B-ORG': 0, 'I-LOC': 0, 'I-MISC': 0, 'I-ORG': 0, 'I-PER': 1, 'O': 0}\n",
      "814372\n",
      "814372\n"
     ]
    }
   ],
   "source": [
    "#Change all labels to only 1 and 0\n",
    "\n",
    "if data_simplified:\n",
    "    labels_to_change = true_labels_simplified\n",
    "    representation_cur = representation_simplified\n",
    "else:\n",
    "    labels_to_change = true_labels\n",
    "    representation_cur = representation\n",
    "\n",
    "unique_labels = np.unique(labels_to_change)\n",
    "print(\"our current labels are\", unique_labels)\n",
    "\n",
    "convert_dict = {}\n",
    "for label in unique_labels:\n",
    "    label_num = 0\n",
    "    if label == 'I-PER':\n",
    "        label_num = 1\n",
    "    convert_dict[label] = label_num\n",
    "\n",
    "print(\"the convert_dict is \", convert_dict)\n",
    "\n",
    "def remap(x):\n",
    "    return convert_dict[x]\n",
    "\n",
    "vf = np.vectorize(remap)\n",
    "true_labels_num = vf(labels_to_change)\n",
    "print(len(true_labels_num))\n",
    "print(len(representation_cur))"
   ]
  },
  {
   "cell_type": "code",
   "execution_count": 7,
   "metadata": {},
   "outputs": [
    {
     "name": "stdout",
     "output_type": "stream",
     "text": [
      "pourcentage_ones is  5.46580678117617\n"
     ]
    }
   ],
   "source": [
    "#idea: We will get huge matrices with almost only 0, so we may need to use sparse representations\n",
    "\n",
    "from scipy import sparse\n",
    "\n",
    "pourcentage_ones = 100*true_labels_num.sum() / len(true_labels_num)\n",
    "print(\"pourcentage_ones is \", pourcentage_ones)\n",
    "\n",
    "true_labels_num_sp = sparse.bsr_array(true_labels_num)"
   ]
  },
  {
   "cell_type": "markdown",
   "metadata": {},
   "source": [
    "## KNN\n",
    "In KNN, the classification of a new data point is determined by the class of its k nearest neighbors in the feature space. In binary classification, there are only two classes, so the new data point will be classified as belonging to one of these two classes based on the majority class of its k nearest neighbors.\n",
    "\n",
    "For example, let's say we have a dataset of images of cats and dogs, and we want to use KNN to classify new images as either cats or dogs. We can represent each image as a feature vector, and then use KNN to find the k nearest neighbors of the new image in the feature space. If the majority of the k nearest neighbors are cats, then the new image will be classified as a cat; if the majority are dogs, then the new image will be classified as a dog.\n",
    "\n",
    "However, it's worth noting that KNN can have some limitations for binary classification, such as the curse of dimensionality and the need for careful selection of the value of k. "
   ]
  },
  {
   "cell_type": "code",
   "execution_count": 8,
   "metadata": {},
   "outputs": [],
   "source": [
    "\n",
    "model_top = KNeighborsClassifier(n_neighbors=5)"
   ]
  },
  {
   "cell_type": "code",
   "execution_count": 10,
   "metadata": {},
   "outputs": [
    {
     "data": {
      "text/html": [
       "<style>#sk-container-id-1 {color: black;background-color: white;}#sk-container-id-1 pre{padding: 0;}#sk-container-id-1 div.sk-toggleable {background-color: white;}#sk-container-id-1 label.sk-toggleable__label {cursor: pointer;display: block;width: 100%;margin-bottom: 0;padding: 0.3em;box-sizing: border-box;text-align: center;}#sk-container-id-1 label.sk-toggleable__label-arrow:before {content: \"▸\";float: left;margin-right: 0.25em;color: #696969;}#sk-container-id-1 label.sk-toggleable__label-arrow:hover:before {color: black;}#sk-container-id-1 div.sk-estimator:hover label.sk-toggleable__label-arrow:before {color: black;}#sk-container-id-1 div.sk-toggleable__content {max-height: 0;max-width: 0;overflow: hidden;text-align: left;background-color: #f0f8ff;}#sk-container-id-1 div.sk-toggleable__content pre {margin: 0.2em;color: black;border-radius: 0.25em;background-color: #f0f8ff;}#sk-container-id-1 input.sk-toggleable__control:checked~div.sk-toggleable__content {max-height: 200px;max-width: 100%;overflow: auto;}#sk-container-id-1 input.sk-toggleable__control:checked~label.sk-toggleable__label-arrow:before {content: \"▾\";}#sk-container-id-1 div.sk-estimator input.sk-toggleable__control:checked~label.sk-toggleable__label {background-color: #d4ebff;}#sk-container-id-1 div.sk-label input.sk-toggleable__control:checked~label.sk-toggleable__label {background-color: #d4ebff;}#sk-container-id-1 input.sk-hidden--visually {border: 0;clip: rect(1px 1px 1px 1px);clip: rect(1px, 1px, 1px, 1px);height: 1px;margin: -1px;overflow: hidden;padding: 0;position: absolute;width: 1px;}#sk-container-id-1 div.sk-estimator {font-family: monospace;background-color: #f0f8ff;border: 1px dotted black;border-radius: 0.25em;box-sizing: border-box;margin-bottom: 0.5em;}#sk-container-id-1 div.sk-estimator:hover {background-color: #d4ebff;}#sk-container-id-1 div.sk-parallel-item::after {content: \"\";width: 100%;border-bottom: 1px solid gray;flex-grow: 1;}#sk-container-id-1 div.sk-label:hover label.sk-toggleable__label {background-color: #d4ebff;}#sk-container-id-1 div.sk-serial::before {content: \"\";position: absolute;border-left: 1px solid gray;box-sizing: border-box;top: 0;bottom: 0;left: 50%;z-index: 0;}#sk-container-id-1 div.sk-serial {display: flex;flex-direction: column;align-items: center;background-color: white;padding-right: 0.2em;padding-left: 0.2em;position: relative;}#sk-container-id-1 div.sk-item {position: relative;z-index: 1;}#sk-container-id-1 div.sk-parallel {display: flex;align-items: stretch;justify-content: center;background-color: white;position: relative;}#sk-container-id-1 div.sk-item::before, #sk-container-id-1 div.sk-parallel-item::before {content: \"\";position: absolute;border-left: 1px solid gray;box-sizing: border-box;top: 0;bottom: 0;left: 50%;z-index: -1;}#sk-container-id-1 div.sk-parallel-item {display: flex;flex-direction: column;z-index: 1;position: relative;background-color: white;}#sk-container-id-1 div.sk-parallel-item:first-child::after {align-self: flex-end;width: 50%;}#sk-container-id-1 div.sk-parallel-item:last-child::after {align-self: flex-start;width: 50%;}#sk-container-id-1 div.sk-parallel-item:only-child::after {width: 0;}#sk-container-id-1 div.sk-dashed-wrapped {border: 1px dashed gray;margin: 0 0.4em 0.5em 0.4em;box-sizing: border-box;padding-bottom: 0.4em;background-color: white;}#sk-container-id-1 div.sk-label label {font-family: monospace;font-weight: bold;display: inline-block;line-height: 1.2em;}#sk-container-id-1 div.sk-label-container {text-align: center;}#sk-container-id-1 div.sk-container {/* jupyter's `normalize.less` sets `[hidden] { display: none; }` but bootstrap.min.css set `[hidden] { display: none !important; }` so we also need the `!important` here to be able to override the default hidden behavior on the sphinx rendered scikit-learn.org. See: https://github.com/scikit-learn/scikit-learn/issues/21755 */display: inline-block !important;position: relative;}#sk-container-id-1 div.sk-text-repr-fallback {display: none;}</style><div id=\"sk-container-id-1\" class=\"sk-top-container\"><div class=\"sk-text-repr-fallback\"><pre>KNeighborsClassifier()</pre><b>In a Jupyter environment, please rerun this cell to show the HTML representation or trust the notebook. <br />On GitHub, the HTML representation is unable to render, please try loading this page with nbviewer.org.</b></div><div class=\"sk-container\" hidden><div class=\"sk-item\"><div class=\"sk-estimator sk-toggleable\"><input class=\"sk-toggleable__control sk-hidden--visually\" id=\"sk-estimator-id-1\" type=\"checkbox\" checked><label for=\"sk-estimator-id-1\" class=\"sk-toggleable__label sk-toggleable__label-arrow\">KNeighborsClassifier</label><div class=\"sk-toggleable__content\"><pre>KNeighborsClassifier()</pre></div></div></div></div></div>"
      ],
      "text/plain": [
       "KNeighborsClassifier()"
      ]
     },
     "execution_count": 10,
     "metadata": {},
     "output_type": "execute_result"
    }
   ],
   "source": [
    "model_top.fit(X=representation_cur, y=true_labels_num)\n",
    "#model_top.fit(X=representation, y=true_labels)"
   ]
  },
  {
   "cell_type": "code",
   "execution_count": 11,
   "metadata": {},
   "outputs": [],
   "source": [
    "model_top.score(X=representation_cur, y=true_labels_num)"
   ]
  },
  {
   "cell_type": "code",
   "execution_count": 13,
   "metadata": {},
   "outputs": [
    {
     "name": "stdout",
     "output_type": "stream",
     "text": [
      "5000\n",
      "0.3438720703125\n",
      "10000\n",
      "0.9158759117126465\n",
      "15000\n",
      "2.0201499462127686\n",
      "20000\n",
      "3.6104822158813477\n",
      "25000\n",
      "5.771903038024902\n",
      "30000\n",
      "8.386633157730103\n",
      "35000\n",
      "12.158196926116943\n",
      "40000\n",
      "17.381895065307617\n",
      "45000\n",
      "21.792458057403564\n"
     ]
    },
    {
     "data": {
      "image/png": "[encoded data removed]",
      "text/plain": [
       "<Figure size 640x480 with 1 Axes>"
      ]
     },
     "metadata": {},
     "output_type": "display_data"
    }
   ],
   "source": [
    "#Effect of size of the data train and data test on the computational time of the score\n",
    "import time\n",
    "\n",
    "time_taken = 0\n",
    "times_taken = []\n",
    "length_data = 5000\n",
    "lengths_data = []\n",
    "\n",
    "while time_taken < 20:\n",
    "\n",
    "    representation_cur_test = representation_cur[:length_data]\n",
    "    true_labels_num_test = true_labels_num[:length_data]\n",
    "\n",
    "    #creating our model and train\n",
    "    model_top = KNeighborsClassifier(n_neighbors=5)\n",
    "    model_top.fit(X=representation_cur_test, y=true_labels_num_test)\n",
    "\n",
    "    print(length_data)\n",
    "\n",
    "    start_time = time.time()\n",
    "    model_top.score(X=representation_cur_test, y=true_labels_num_test)\n",
    "    end_time = time.time()\n",
    "    time_taken = end_time - start_time\n",
    "\n",
    "    print(time_taken)\n",
    "\n",
    "    times_taken.append(time_taken)\n",
    "    lengths_data.append(length_data)   \n",
    "\n",
    "    length_data += 5000\n",
    "\n",
    "plt.plot(lengths_data, times_taken)\n",
    "plt.xlabel('Length of Data')\n",
    "plt.ylabel('Time Taken (in seconds)')\n",
    "plt.title('Time Taken vs Length of Data')\n",
    "plt.show()\n"
   ]
  },
  {
   "cell_type": "code",
   "execution_count": 11,
   "metadata": {},
   "outputs": [
    {
     "data": {
      "image/png": "[encoded data removed]",
      "text/plain": [
       "<Figure size 640x480 with 1 Axes>"
      ]
     },
     "metadata": {},
     "output_type": "display_data"
    }
   ],
   "source": [
    "#Effect of size of the test data on the computational time of the score\n",
    "import time\n",
    "\n",
    "size_training = 10000 # we fix the size of the training data\n",
    "time_taken = 0\n",
    "times_taken = []\n",
    "length_data = 5000\n",
    "lengths_data = []\n",
    "\n",
    "while time_taken < 10:\n",
    "\n",
    "    representation_cur_train = representation_cur[:size_training]\n",
    "    true_labels_num_train = true_labels_num[:size_training]\n",
    "\n",
    "    representation_cur_test = representation_cur[:length_data]\n",
    "    true_labels_num_test = true_labels_num[:length_data]\n",
    "\n",
    "    #creating our model and train\n",
    "    model_top = KNeighborsClassifier(n_neighbors=5)\n",
    "    model_top.fit(X=representation_cur_train, y=true_labels_num_train)\n",
    "\n",
    "    #print(length_data)\n",
    "\n",
    "    start_time = time.time()\n",
    "    model_top.score(X=representation_cur_test, y=true_labels_num_test)\n",
    "    end_time = time.time()\n",
    "    time_taken = end_time - start_time\n",
    "\n",
    "    #print(time_taken)\n",
    "\n",
    "    times_taken.append(time_taken)\n",
    "    lengths_data.append(length_data)   \n",
    "\n",
    "    length_data += 5000\n",
    "\n",
    "plt.plot(lengths_data, times_taken)\n",
    "plt.xlabel('Length of test Data')\n",
    "plt.ylabel('Time Taken (in seconds)')\n",
    "plt.title('Time Taken vs Length of test Data - train size fixed')\n",
    "plt.show()"
   ]
  },
  {
   "cell_type": "code",
   "execution_count": 12,
   "metadata": {},
   "outputs": [
    {
     "data": {
      "image/png": "[encoded data removed]",
      "text/plain": [
       "<Figure size 640x480 with 1 Axes>"
      ]
     },
     "metadata": {},
     "output_type": "display_data"
    }
   ],
   "source": [
    "#Effect of size of the train data on the computational time of the score\n",
    "import time\n",
    "\n",
    "size_test = 10000 #we fix the size of the data test \n",
    "time_taken = 0\n",
    "times_taken = []\n",
    "length_data = 10000\n",
    "lengths_data = []\n",
    "\n",
    "while time_taken < 40:\n",
    "\n",
    "    representation_cur_train = representation_cur[:length_data]\n",
    "    true_labels_num_train = true_labels_num[:length_data]\n",
    "\n",
    "    representation_cur_test = representation_cur[:size_test]\n",
    "    true_labels_num_test = true_labels_num[:size_test]\n",
    "\n",
    "    #creating our model and train\n",
    "    model_top = KNeighborsClassifier(n_neighbors=5)\n",
    "    model_top.fit(X=representation_cur_train, y=true_labels_num_train)\n",
    "\n",
    "    #print(length_data)\n",
    "\n",
    "    start_time = time.time()\n",
    "    model_top.score(X=representation_cur_test, y=true_labels_num_test)\n",
    "    end_time = time.time()\n",
    "    time_taken = end_time - start_time\n",
    "\n",
    "    #print(time_taken)\n",
    "\n",
    "    times_taken.append(time_taken)\n",
    "    lengths_data.append(length_data)   \n",
    "\n",
    "    length_data += 20000\n",
    "\n",
    "plt.plot(lengths_data, times_taken)\n",
    "plt.xlabel('Length of Data')\n",
    "plt.ylabel('Time Taken (in seconds)')\n",
    "plt.title('Time Taken vs Length of Data train - test size fixed')\n",
    "plt.show()\n"
   ]
  },
  {
   "cell_type": "markdown",
   "metadata": {},
   "source": [
    "## Remark on plots \n",
    "\n",
    "- TO DO \n",
    "\n",
    "- The more data is used to fit our model, the more complex the computations for the prediction will be. "
   ]
  },
  {
   "cell_type": "code",
   "execution_count": 10,
   "metadata": {},
   "outputs": [
    {
     "name": "stderr",
     "output_type": "stream",
     "text": [
      "  0%|          | 0/10 [00:00<?, ?it/s]"
     ]
    },
    {
     "name": "stdout",
     "output_type": "stream",
     "text": [
      "0.9907\n",
      "0.9915\n"
     ]
    },
    {
     "name": "stderr",
     "output_type": "stream",
     "text": [
      " 10%|█         | 1/10 [00:37<05:41, 37.98s/it]"
     ]
    },
    {
     "name": "stdout",
     "output_type": "stream",
     "text": [
      "0.9918\n",
      "0.9913\n",
      "0.9905\n"
     ]
    },
    {
     "name": "stderr",
     "output_type": "stream",
     "text": [
      " 20%|██        | 2/10 [01:13<04:52, 36.62s/it]"
     ]
    },
    {
     "name": "stdout",
     "output_type": "stream",
     "text": [
      "0.9906\n",
      "0.9888\n",
      "0.9895\n"
     ]
    },
    {
     "name": "stderr",
     "output_type": "stream",
     "text": [
      " 30%|███       | 3/10 [01:49<04:13, 36.14s/it]"
     ]
    },
    {
     "name": "stdout",
     "output_type": "stream",
     "text": [
      "0.9884\n",
      "0.987\n",
      "0.9891\n"
     ]
    },
    {
     "name": "stderr",
     "output_type": "stream",
     "text": [
      " 40%|████      | 4/10 [02:24<03:34, 35.79s/it]"
     ]
    },
    {
     "name": "stdout",
     "output_type": "stream",
     "text": [
      "0.9881\n",
      "0.9869\n",
      "0.9867\n"
     ]
    },
    {
     "name": "stderr",
     "output_type": "stream",
     "text": [
      " 50%|█████     | 5/10 [03:00<02:59, 35.85s/it]"
     ]
    },
    {
     "name": "stdout",
     "output_type": "stream",
     "text": [
      "0.9864\n",
      "0.9857\n",
      "0.987\n"
     ]
    },
    {
     "name": "stderr",
     "output_type": "stream",
     "text": [
      " 60%|██████    | 6/10 [03:36<02:23, 35.93s/it]"
     ]
    },
    {
     "name": "stdout",
     "output_type": "stream",
     "text": [
      "0.9859\n",
      "0.9843\n",
      "0.9866\n"
     ]
    },
    {
     "name": "stderr",
     "output_type": "stream",
     "text": [
      " 70%|███████   | 7/10 [04:12<01:47, 35.85s/it]"
     ]
    },
    {
     "name": "stdout",
     "output_type": "stream",
     "text": [
      "0.986\n",
      "0.9845\n",
      "0.9859\n"
     ]
    },
    {
     "name": "stderr",
     "output_type": "stream",
     "text": [
      " 80%|████████  | 8/10 [04:47<01:11, 35.81s/it]"
     ]
    },
    {
     "name": "stdout",
     "output_type": "stream",
     "text": [
      "0.9847\n",
      "0.9818\n",
      "0.9856\n"
     ]
    },
    {
     "name": "stderr",
     "output_type": "stream",
     "text": [
      " 90%|█████████ | 9/10 [05:24<00:35, 35.91s/it]"
     ]
    },
    {
     "name": "stdout",
     "output_type": "stream",
     "text": [
      "0.9848\n",
      "0.9844\n",
      "0.9828\n"
     ]
    },
    {
     "name": "stderr",
     "output_type": "stream",
     "text": [
      "100%|██████████| 10/10 [06:00<00:00, 36.06s/it]"
     ]
    },
    {
     "name": "stdout",
     "output_type": "stream",
     "text": [
      "0.983\n"
     ]
    },
    {
     "name": "stderr",
     "output_type": "stream",
     "text": [
      "\n"
     ]
    },
    {
     "data": {
      "image/png": "[encoded data removed]",
      "text/plain": [
       "<Figure size 640x480 with 1 Axes>"
      ]
     },
     "metadata": {},
     "output_type": "display_data"
    },
    {
     "name": "stdout",
     "output_type": "stream",
     "text": [
      "The optimal number of neighbors is 2\n"
     ]
    }
   ],
   "source": [
    "k_range = range(2, 102, 10)\n",
    "k_scores = []\n",
    "number_folds = 3\n",
    "\n",
    "kf = KFold(n_splits=number_folds, shuffle=True)\n",
    "\n",
    "for k in tqdm(k_range):\n",
    "    knn = KNeighborsClassifier(n_neighbors=k)\n",
    "    scores = []\n",
    "\n",
    "    for train_index, test_index in kf.split(representation_cur):\n",
    "        X_train, X_test = representation_cur[train_index][:50000], representation_cur[test_index][:10000]\n",
    "        y_train, y_test = true_labels_num[train_index][:50000], true_labels_num[test_index][:10000]\n",
    "        knn.fit(X_train, y_train)\n",
    "        score = knn.score(X_test, y_test)\n",
    "        scores.append(score)\n",
    "        print(score)\n",
    "    k_scores.append(np.mean(scores))\n",
    "\n",
    "plt.plot(k_range, k_scores)\n",
    "plt.xlabel('Number of neighbors (k)')\n",
    "plt.ylabel('Cross-validated accuracy')\n",
    "plt.show()\n",
    "\n",
    "optimal_k = k_range[k_scores.index(max(k_scores))]\n",
    "print(\"The optimal number of neighbors is\", optimal_k)"
   ]
  },
  {
   "cell_type": "code",
   "execution_count": null,
   "metadata": {},
   "outputs": [],
   "source": []
  },
  {
   "cell_type": "markdown",
   "metadata": {},
   "source": [
    "## Choosing the right metrics\n",
    "\n",
    "Let's the confusion matrix, which is a table that shows the number of true positives (TP), true negatives (TN), false positives (FP), and false negatives (FN). In our case with the anonymisation, a true positive would be a text that contains personal data correctly identified as such, a true negative would be a text that does not contain personal data correctly identified as such, a false positive would be a text that does not contain personal data but is incorrectly identified as containing personal data, and a false negative would be a text that contains personal data but is not identified as such. So similarly to the case of spam emails, we are interested in the number of false negative. We want this value to be as low as possible, but at the same time we dont want our model to pin every non personal message as personal (we shouldnt have a number of false positives too high) as we would loose information. "
   ]
  },
  {
   "cell_type": "markdown",
   "metadata": {},
   "source": [
    "Once we get the confusion matrix, you can calculate several metrics such as precision, recall, and F1-score. Precision is the proportion of true positive predictions among all positive predictions, recall is the proportion of true positive predictions among all actual positive instances, and F1-score is the harmonic mean of precision and recall. These metrics will give you an idea of how well your model is performing in terms of detecting personal data."
   ]
  },
  {
   "cell_type": "code",
   "execution_count": 11,
   "metadata": {},
   "outputs": [],
   "source": [
    "from sklearn.model_selection import train_test_split\n",
    "\n",
    "X_half1, X_half2, y_half1, y_half2 = train_test_split(representation_cur, true_labels_num, test_size=0.5, random_state=42)\n",
    "X_quarter1, X_quarter2, y_quarter1, y_quarter2 = train_test_split(X_half1, y_half1, test_size=0.5, random_state=42)\n",
    "X_quarter3, X_quarter4, y_quarter3, y_quarter4 = train_test_split(X_half2, y_half2, test_size=0.5, random_state=42)\n",
    "\n",
    "X_train1, X_test1, y_train1, y_test1 = train_test_split(X_quarter1, y_quarter1, test_size=0.3, random_state=42)\n",
    "X_train2, X_test2, y_train2, y_test2 = train_test_split(X_quarter2, y_quarter2, test_size=0.3, random_state=42)\n",
    "X_train3, X_test3, y_train3, y_test3 = train_test_split(X_quarter3, y_quarter3, test_size=0.3, random_state=42)\n",
    "X_train4, X_test4, y_train4, y_test4 = train_test_split(X_quarter4, y_quarter4, test_size=0.3, random_state=42)"
   ]
  },
  {
   "cell_type": "code",
   "execution_count": 19,
   "metadata": {},
   "outputs": [
    {
     "name": "stdout",
     "output_type": "stream",
     "text": [
      "86.6662950515747\n",
      "91.79683804512024\n",
      "90.85201382637024\n",
      "96.53377103805542\n"
     ]
    }
   ],
   "source": [
    "#compute predictions\n",
    "import time \n",
    "\n",
    "y_preds = []\n",
    "\n",
    "for i in np.arange(1,5):\n",
    "\n",
    "    start_time = time.time()\n",
    "    \n",
    "    knn = KNeighborsClassifier(n_neighbors=2)\n",
    "    X_train_cur = globals()['X_train'+str(i)]\n",
    "    y_train_cur = globals()['y_train'+str(i)]\n",
    "    X_test_cur = globals()['X_test'+str(i)]\n",
    "    y_test_cur = globals()['y_test'+str(i)]\n",
    "\n",
    "    knn.fit(X_train_cur, y_train_cur)\n",
    "\n",
    "    # make predictions on the test data\n",
    "    y_pred = knn.predict(X_test_cur)\n",
    "    y_preds.append(y_pred)\n",
    "    \n",
    "    end_time = time.time()\n",
    "    time_taken = end_time - start_time\n",
    "    print(time_taken)"
   ]
  },
  {
   "cell_type": "code",
   "execution_count": 14,
   "metadata": {},
   "outputs": [
    {
     "name": "stdout",
     "output_type": "stream",
     "text": [
      "train finished\n",
      "127.77283573150635\n",
      "train finished\n",
      "122.29420375823975\n",
      "train finished\n",
      "128.1185426712036\n",
      "train finished\n",
      "120.60738110542297\n"
     ]
    }
   ],
   "source": [
    "#compute predictions for SVC\n",
    "from sklearn.svm import SVC\n",
    "import time \n",
    "\n",
    "y_preds_svm = []\n",
    "\n",
    "for i in np.arange(1,5):\n",
    "\n",
    "    start_time = time.time()\n",
    "    \n",
    "    svm = SVC()\n",
    "    X_train_cur = globals()['X_train'+str(i)]\n",
    "    y_train_cur = globals()['y_train'+str(i)]\n",
    "    X_test_cur = globals()['X_test'+str(i)]\n",
    "    y_test_cur = globals()['y_test'+str(i)]\n",
    "\n",
    "    svm.fit(X_train_cur[:50000], y_train_cur[:50000])\n",
    "    print(\"train finished\")\n",
    "\n",
    "    # make predictions on the test data\n",
    "    y_pred = svm.predict(X_test_cur[:20000])\n",
    "    y_preds_svm.append(y_pred)\n",
    "    \n",
    "    end_time = time.time()\n",
    "    time_taken = end_time - start_time\n",
    "    print(time_taken)"
   ]
  },
  {
   "cell_type": "code",
   "execution_count": 15,
   "metadata": {},
   "outputs": [],
   "source": [
    "#np.save(f\"data/svm.preds.npy\", y_preds_svm)"
   ]
  },
  {
   "cell_type": "code",
   "execution_count": 23,
   "metadata": {},
   "outputs": [],
   "source": [
    "#np.save(f\"data/knn.preds.npy\", y_preds)"
   ]
  },
  {
   "cell_type": "markdown",
   "metadata": {},
   "source": [
    "## SVM METRICS"
   ]
  },
  {
   "cell_type": "code",
   "execution_count": 16,
   "metadata": {},
   "outputs": [],
   "source": [
    "y_preds_svm = np.load(\"data/svm.preds.npy\")"
   ]
  },
  {
   "cell_type": "code",
   "execution_count": 17,
   "metadata": {},
   "outputs": [],
   "source": [
    "from sklearn.metrics import confusion_matrix, precision_score, recall_score, f1_score\n",
    "\n",
    "conf_matrices_svm = []\n",
    "precisions_svm = []\n",
    "recalls_svm = []\n",
    "f1s_svm = []\n",
    "\n",
    "for i in np.arange(4):\n",
    "    y_pred_cur = y_preds_svm[i]\n",
    "    y_test_cur = globals()['y_test'+str(i+1)][:20000]\n",
    "\n",
    "    # calculate the confusion matrix\n",
    "    conf_matrix = confusion_matrix(y_test_cur, y_pred_cur)\n",
    "    conf_matrices_svm.append(conf_matrix)\n",
    "\n",
    "    # calculate performance metrics\n",
    "    precision = precision_score(y_test_cur, y_pred_cur)\n",
    "    precisions_svm.append(precision)\n",
    "    recall = recall_score(y_test_cur, y_pred_cur)\n",
    "    recalls_svm.append(recall)\n",
    "    f1 = f1_score(y_test_cur, y_pred_cur)\n",
    "    f1s_svm.append(f1)"
   ]
  },
  {
   "cell_type": "code",
   "execution_count": 18,
   "metadata": {},
   "outputs": [
    {
     "name": "stdout",
     "output_type": "stream",
     "text": [
      "confusion  0  =  [[18821    24]\n",
      " [   42  1113]]\n",
      "precision  0  =  0.978891820580475\n",
      "recall  0  =  0.9636363636363636\n",
      "f1 score  0  =  0.9712041884816756\n",
      "confusion  1  =  [[18815    23]\n",
      " [   51  1111]]\n",
      "precision  1  =  0.9797178130511464\n",
      "recall  1  =  0.9561101549053356\n",
      "f1 score  1  =  0.9677700348432056\n",
      "confusion  2  =  [[18931    26]\n",
      " [   59   984]]\n",
      "precision  2  =  0.9742574257425742\n",
      "recall  2  =  0.9434324065196549\n",
      "f1 score  2  =  0.9585971748660497\n",
      "confusion  3  =  [[18890    22]\n",
      " [   43  1045]]\n",
      "precision  3  =  0.979381443298969\n",
      "recall  3  =  0.9604779411764706\n",
      "f1 score  3  =  0.9698375870069604\n",
      "\n",
      "The mean values for the metric are: \n",
      "mean precision 0.9780621256682912\n",
      "mean recall 0.9559142165594562\n",
      "mean f1 0.9668522462994729\n"
     ]
    }
   ],
   "source": [
    "for i in np.arange(4):\n",
    "    \n",
    "    print(\"confusion \", i ,\" = \",conf_matrices_svm[i])\n",
    "    print(\"precision \", i ,\" = \",precisions_svm[i])\n",
    "    print(\"recall \", i ,\" = \",recalls_svm[i])\n",
    "    print(\"f1 score \", i ,\" = \",f1s_svm[i])\n",
    "\n",
    "print(\"\")\n",
    "print(\"The mean values for the metric are: \")\n",
    "\n",
    "#mean_conf_matrix = np.mean(conf_matrices, axis=0)\n",
    "#print(mean_conf_matrix)\n",
    "\n",
    "# Calculate mean performance metrics\n",
    "mean_precision_svm = np.mean(precisions_svm)\n",
    "mean_recall_svm = np.mean(recalls_svm)\n",
    "mean_f1_svm = np.mean(f1s_svm)\n",
    "\n",
    "print(\"mean precision\", mean_precision_svm)\n",
    "print(\"mean recall\", mean_recall_svm)\n",
    "print(\"mean f1\", mean_f1_svm)\n",
    "\n"
   ]
  },
  {
   "cell_type": "code",
   "execution_count": 19,
   "metadata": {},
   "outputs": [
    {
     "data": {
      "image/png": "[encoded data removed]",
      "text/plain": [
       "<Figure size 640x480 with 1 Axes>"
      ]
     },
     "metadata": {},
     "output_type": "display_data"
    }
   ],
   "source": [
    "y_preds_all = np.concatenate(y_preds_svm)\n",
    "y_test_all = np.concatenate([globals()['y_test'+str(i+1)][:20000] for i in np.arange(4)])\n",
    "\n",
    "\n",
    "false_pos_rate, true_pos_rate, thresholds = roc_curve(y_test_all, y_preds_all)\n",
    "roc_auc = auc(false_pos_rate, true_pos_rate)\n",
    "\n",
    "plt.plot(false_pos_rate, true_pos_rate, color='red', label='ROC curve (AUC = {})'.format(np.round(roc_auc, 2)))\n",
    "plt.legend(loc=\"lower right\")\n",
    "plt.plot([0, 1], [0, 1], color='blue', linestyle='--')\n",
    "plt.xlim([0.0, 1.0])\n",
    "plt.ylim([0.0, 1.00])\n",
    "plt.xlabel('False Positive Rate')\n",
    "plt.ylabel('True Positive Rate')\n",
    "plt.title('ROC Curve') #meaning Receiver Operating Characteristic\n",
    "plt.show()"
   ]
  },
  {
   "cell_type": "code",
   "execution_count": null,
   "metadata": {},
   "outputs": [],
   "source": []
  },
  {
   "cell_type": "markdown",
   "metadata": {},
   "source": [
    "## KNN METRICS"
   ]
  },
  {
   "cell_type": "code",
   "execution_count": 23,
   "metadata": {},
   "outputs": [],
   "source": [
    "y_preds = np.load(\"data/knn.preds.npy\")"
   ]
  },
  {
   "cell_type": "code",
   "execution_count": 24,
   "metadata": {},
   "outputs": [],
   "source": [
    "from sklearn.metrics import confusion_matrix, precision_score, recall_score, f1_score\n",
    "\n",
    "conf_matrices = []\n",
    "precisions = []\n",
    "recalls = []\n",
    "f1s = []\n",
    "\n",
    "for i in np.arange(4):\n",
    "    y_pred_cur = y_preds[i]\n",
    "    y_test_cur = globals()['y_test'+str(i+1)]\n",
    "\n",
    "    # calculate the confusion matrix\n",
    "    conf_matrix = confusion_matrix(y_test_cur, y_pred_cur)\n",
    "    conf_matrices.append(conf_matrix)\n",
    "\n",
    "    # calculate performance metrics\n",
    "    precision = precision_score(y_test_cur, y_pred_cur)\n",
    "    precisions.append(precision)\n",
    "    recall = recall_score(y_test_cur, y_pred_cur)\n",
    "    recalls.append(recall)\n",
    "    f1 = f1_score(y_test_cur, y_pred_cur)\n",
    "    f1s.append(f1)"
   ]
  },
  {
   "cell_type": "code",
   "execution_count": 25,
   "metadata": {},
   "outputs": [
    {
     "name": "stdout",
     "output_type": "stream",
     "text": [
      "confusion  0  =  [[57520    64]\n",
      " [  206  3288]]\n",
      "precision  0  =  0.9809069212410502\n",
      "recall  0  =  0.9410417859187178\n",
      "f1 score  0  =  0.9605609114811569\n",
      "confusion  1  =  [[57606    69]\n",
      " [  222  3181]]\n",
      "precision  1  =  0.9787692307692307\n",
      "recall  1  =  0.9347634440199823\n",
      "f1 score  1  =  0.9562603336840524\n",
      "confusion  2  =  [[57676    71]\n",
      " [  205  3126]]\n",
      "precision  2  =  0.9777916796997185\n",
      "recall  2  =  0.9384569198438907\n",
      "f1 score  2  =  0.957720588235294\n",
      "confusion  3  =  [[57656    67]\n",
      " [  212  3143]]\n",
      "precision  3  =  0.9791277258566978\n",
      "recall  3  =  0.9368107302533532\n",
      "f1 score  3  =  0.9575019040365575\n",
      "\n",
      "The mean values for the metric are: \n",
      "mean precision 0.9791488893916743\n",
      "mean recall 0.9377682200089861\n",
      "mean f1 0.9580109343592651\n"
     ]
    }
   ],
   "source": [
    "for i in np.arange(4):\n",
    "    \n",
    "    print(\"confusion \", i ,\" = \",conf_matrices[i])\n",
    "    print(\"precision \", i ,\" = \",precisions[i])\n",
    "    print(\"recall \", i ,\" = \",recalls[i])\n",
    "    print(\"f1 score \", i ,\" = \",f1s[i])\n",
    "\n",
    "print(\"\")\n",
    "print(\"The mean values for the metric are: \")\n",
    "\n",
    "#mean_conf_matrix = np.mean(conf_matrices, axis=0)\n",
    "#print(mean_conf_matrix)\n",
    "\n",
    "# Calculate mean performance metrics\n",
    "mean_precision = np.mean(precisions)\n",
    "mean_recall = np.mean(recalls)\n",
    "mean_f1 = np.mean(f1s)\n",
    "\n",
    "print(\"mean precision\", mean_precision)\n",
    "print(\"mean recall\", mean_recall)\n",
    "print(\"mean f1\", mean_f1)\n",
    "\n"
   ]
  },
  {
   "cell_type": "code",
   "execution_count": 26,
   "metadata": {},
   "outputs": [
    {
     "name": "stdout",
     "output_type": "stream",
     "text": [
      "total_score  =  0.9954320704672713\n"
     ]
    },
    {
     "data": {
      "image/png": "[encoded data removed]",
      "text/plain": [
       "<Figure size 640x480 with 1 Axes>"
      ]
     },
     "metadata": {},
     "output_type": "display_data"
    }
   ],
   "source": [
    "\n",
    "y_preds_all = np.concatenate(y_preds)\n",
    "y_test_all = np.concatenate([globals()['y_test'+str(i+1)] for i in np.arange(4)])\n",
    "\n",
    "\n",
    "score_tot = 0\n",
    "length_tot = len(y_preds_all)\n",
    "for i in np.arange(length_tot):\n",
    "    if y_preds_all[i] == y_test_all[i]:\n",
    "        score_tot +=1\n",
    "\n",
    "print(\"total_score  = \", score_tot / length_tot)\n",
    "\n",
    "false_pos_rate, true_pos_rate, thresholds = roc_curve(y_test_all, y_preds_all)\n",
    "roc_auc = auc(false_pos_rate, true_pos_rate)\n",
    "\n",
    "plt.plot(false_pos_rate, true_pos_rate, color='red', label='ROC curve (AUC = {})'.format(np.round(roc_auc, 2)))\n",
    "plt.legend(loc=\"lower right\")\n",
    "plt.plot([0, 1], [0, 1], color='blue', linestyle='--')\n",
    "plt.xlim([0.0, 1.0])\n",
    "plt.ylim([0.0, 1.00])\n",
    "plt.xlabel('False Positive Rate')\n",
    "plt.ylabel('True Positive Rate')\n",
    "plt.title('ROC Curve') #meaning Receiver Operating Characteristic\n",
    "plt.show()"
   ]
  },
  {
   "cell_type": "code",
   "execution_count": null,
   "metadata": {},
   "outputs": [],
   "source": []
  },
  {
   "cell_type": "markdown",
   "metadata": {},
   "source": [
    "## Remark\n",
    "\n",
    "The ROC curve that we obtained is very close to the top-left corner of the plot, it indicates that the model has higher true positive rate and lower false positive rate, which is desirable. If the curve was closer to the diagonal line , it would mean the model performance would be poor (as the diagonal indicates random guessing).\n",
    "\n",
    "Therefore, we get a high area under the curve (AUC score) of 0.97, it suggests that our model is capable of correctly identifying the vast majority of our positive samples while keeping at the same time false positives to a minimum, indicating good performance in classifying personal and non personal text."
   ]
  },
  {
   "cell_type": "code",
   "execution_count": null,
   "metadata": {},
   "outputs": [],
   "source": []
  },
  {
   "cell_type": "markdown",
   "metadata": {},
   "source": [
    "## Multiclass"
   ]
  },
  {
   "cell_type": "code",
   "execution_count": null,
   "metadata": {},
   "outputs": [],
   "source": [
    "true_labels = np.load(\"data/true_labels.eng.train.npy\")"
   ]
  },
  {
   "cell_type": "code",
   "execution_count": null,
   "metadata": {},
   "outputs": [],
   "source": [
    "representation = np.load(\"data/representation.eng.train.npy\")"
   ]
  },
  {
   "cell_type": "code",
   "execution_count": null,
   "metadata": {},
   "outputs": [
    {
     "name": "stdout",
     "output_type": "stream",
     "text": [
      "814372 (814372, 768)\n",
      "814372 (814372,)\n"
     ]
    }
   ],
   "source": [
    "print(len(representation), representation.shape)\n",
    "print(len(true_labels), true_labels.shape)\n",
    "\n",
    "data_simplified = False\n",
    "\n",
    "if data_simplified:\n",
    "    representation_simplified = representation[:10000]\n",
    "    true_labels_simplified = true_labels[:10000]    "
   ]
  },
  {
   "cell_type": "code",
   "execution_count": null,
   "metadata": {},
   "outputs": [
    {
     "name": "stdout",
     "output_type": "stream",
     "text": [
      "our current labels are ['B-LOC' 'B-MISC' 'B-ORG' 'I-LOC' 'I-MISC' 'I-ORG' 'I-PER' 'O']\n",
      "the convert_dict is  {'B-LOC': 0, 'B-MISC': 1, 'B-ORG': 2, 'I-LOC': 3, 'I-MISC': 4, 'I-ORG': 5, 'I-PER': 6, 'O': 7}\n",
      "814372\n"
     ]
    }
   ],
   "source": [
    "#Change all labels to only 0,1,2,3,4,5,6\n",
    "\n",
    "if data_simplified:\n",
    "    labels_to_change = true_labels_simplified\n",
    "    representation_cur = representation_simplified\n",
    "else:\n",
    "    labels_to_change = true_labels\n",
    "    representation_cur = representation\n",
    "\n",
    "unique_labels = np.unique(labels_to_change)\n",
    "print(\"our current labels are\", unique_labels)\n",
    "\n",
    "convert_dict = {}\n",
    "label_num=0\n",
    "for label in unique_labels:\n",
    "    convert_dict[label] = label_num\n",
    "    label_num +=1\n",
    "\n",
    "\n",
    "print(\"the convert_dict is \", convert_dict)\n",
    "\n",
    "def remap(x):\n",
    "    return convert_dict[x]\n",
    "\n",
    "vf = np.vectorize(remap)\n",
    "true_labels_numbered = vf(labels_to_change)\n",
    "print(len(true_labels_numbered))"
   ]
  },
  {
   "cell_type": "code",
   "execution_count": null,
   "metadata": {},
   "outputs": [
    {
     "name": "stderr",
     "output_type": "stream",
     "text": [
      "  0%|          | 0/10 [00:00<?, ?it/s]"
     ]
    },
    {
     "name": "stdout",
     "output_type": "stream",
     "text": [
      "0.9643\n",
      "0.9611\n"
     ]
    },
    {
     "name": "stderr",
     "output_type": "stream",
     "text": [
      " 10%|█         | 1/10 [00:41<06:13, 41.51s/it]"
     ]
    },
    {
     "name": "stdout",
     "output_type": "stream",
     "text": [
      "0.9599\n",
      "0.9537\n",
      "0.9548\n"
     ]
    },
    {
     "name": "stderr",
     "output_type": "stream",
     "text": [
      " 20%|██        | 2/10 [01:21<05:23, 40.44s/it]"
     ]
    },
    {
     "name": "stdout",
     "output_type": "stream",
     "text": [
      "0.9586\n",
      "0.9471\n",
      "0.954\n"
     ]
    },
    {
     "name": "stderr",
     "output_type": "stream",
     "text": [
      " 30%|███       | 3/10 [01:58<04:32, 38.93s/it]"
     ]
    },
    {
     "name": "stdout",
     "output_type": "stream",
     "text": [
      "0.948\n",
      "0.9455\n",
      "0.9492\n"
     ]
    },
    {
     "name": "stderr",
     "output_type": "stream",
     "text": [
      " 40%|████      | 4/10 [02:40<04:02, 40.39s/it]"
     ]
    },
    {
     "name": "stdout",
     "output_type": "stream",
     "text": [
      "0.9466\n",
      "0.9474\n",
      "0.948\n"
     ]
    },
    {
     "name": "stderr",
     "output_type": "stream",
     "text": [
      " 50%|█████     | 5/10 [03:23<03:26, 41.33s/it]"
     ]
    },
    {
     "name": "stdout",
     "output_type": "stream",
     "text": [
      "0.9406\n",
      "0.9413\n",
      "0.9428\n"
     ]
    },
    {
     "name": "stderr",
     "output_type": "stream",
     "text": [
      " 60%|██████    | 6/10 [04:02<02:41, 40.48s/it]"
     ]
    },
    {
     "name": "stdout",
     "output_type": "stream",
     "text": [
      "0.9459\n",
      "0.9441\n",
      "0.9376\n"
     ]
    },
    {
     "name": "stderr",
     "output_type": "stream",
     "text": [
      " 70%|███████   | 7/10 [04:39<01:57, 39.17s/it]"
     ]
    },
    {
     "name": "stdout",
     "output_type": "stream",
     "text": [
      "0.9407\n",
      "0.9392\n",
      "0.9408\n"
     ]
    },
    {
     "name": "stderr",
     "output_type": "stream",
     "text": [
      " 80%|████████  | 8/10 [05:18<01:18, 39.24s/it]"
     ]
    },
    {
     "name": "stdout",
     "output_type": "stream",
     "text": [
      "0.9404\n",
      "0.9423\n",
      "0.9358\n"
     ]
    },
    {
     "name": "stderr",
     "output_type": "stream",
     "text": [
      " 90%|█████████ | 9/10 [05:59<00:39, 39.78s/it]"
     ]
    },
    {
     "name": "stdout",
     "output_type": "stream",
     "text": [
      "0.9384\n",
      "0.9352\n",
      "0.9382\n"
     ]
    },
    {
     "name": "stderr",
     "output_type": "stream",
     "text": [
      "100%|██████████| 10/10 [06:39<00:00, 39.95s/it]"
     ]
    },
    {
     "name": "stdout",
     "output_type": "stream",
     "text": [
      "0.9378\n"
     ]
    },
    {
     "name": "stderr",
     "output_type": "stream",
     "text": [
      "\n"
     ]
    },
    {
     "data": {
      "image/png": "[encoded data removed]",
      "text/plain": [
       "<Figure size 640x480 with 1 Axes>"
      ]
     },
     "metadata": {},
     "output_type": "display_data"
    },
    {
     "name": "stdout",
     "output_type": "stream",
     "text": [
      "The optimal number of neighbors is 2\n"
     ]
    }
   ],
   "source": [
    "k_range = range(2, 102, 10)\n",
    "k_scores = []\n",
    "number_folds = 3\n",
    "\n",
    "kf = KFold(n_splits=number_folds, shuffle=True)\n",
    "\n",
    "for k in tqdm(k_range):\n",
    "    knn = KNeighborsClassifier(n_neighbors=k)\n",
    "    scores = []\n",
    "\n",
    "    for train_index, test_index in kf.split(representation_cur):\n",
    "        X_train, X_test = representation_cur[train_index][:50000], representation_cur[test_index][:10000]\n",
    "        y_train, y_test = true_labels_numbered[train_index][:50000], true_labels_numbered[test_index][:10000]\n",
    "        knn.fit(X_train, y_train)\n",
    "        score = knn.score(X_test, y_test)\n",
    "        scores.append(score)\n",
    "        print(score)\n",
    "    k_scores.append(np.mean(scores))\n",
    "\n",
    "plt.plot(k_range, k_scores)\n",
    "plt.xlabel('Number of neighbors (k)')\n",
    "plt.ylabel('Cross-validated accuracy')\n",
    "plt.show()\n",
    "\n",
    "optimal_k = k_range[k_scores.index(max(k_scores))]\n",
    "print(\"The optimal number of neighbors is\", optimal_k)"
   ]
  },
  {
   "cell_type": "code",
   "execution_count": null,
   "metadata": {},
   "outputs": [
    {
     "name": "stdout",
     "output_type": "stream",
     "text": [
      "80.0595691204071\n",
      "82.69536304473877\n",
      "84.84504389762878\n",
      "88.63736081123352\n"
     ]
    }
   ],
   "source": [
    "#compute predictions\n",
    "import time \n",
    "\n",
    "y_preds = []\n",
    "\n",
    "for i in np.arange(1,5):\n",
    "\n",
    "    start_time = time.time()\n",
    "    \n",
    "    knn = KNeighborsClassifier(n_neighbors=2)\n",
    "    X_train_cur = globals()['X_train'+str(i)]\n",
    "    y_train_cur = globals()['y_train'+str(i)]\n",
    "    X_test_cur = globals()['X_test'+str(i)]\n",
    "    y_test_cur = globals()['y_test'+str(i)]\n",
    "\n",
    "    knn.fit(X_train_cur, y_train_cur)\n",
    "\n",
    "    # make predictions on the test data\n",
    "    y_pred = knn.predict(X_test_cur)\n",
    "    y_preds.append(y_pred)\n",
    "    \n",
    "    end_time = time.time()\n",
    "    time_taken = end_time - start_time\n",
    "    print(time_taken)"
   ]
  },
  {
   "cell_type": "code",
   "execution_count": null,
   "metadata": {},
   "outputs": [],
   "source": [
    "np.save(f\"data/knn.multiclass.preds.npy\", y_preds)"
   ]
  },
  {
   "cell_type": "markdown",
   "metadata": {},
   "source": [
    "## KNN Metrics"
   ]
  },
  {
   "cell_type": "code",
   "execution_count": null,
   "metadata": {},
   "outputs": [],
   "source": [
    "from sklearn.metrics import confusion_matrix, precision_score, recall_score, f1_score\n",
    "\n",
    "conf_matrices = []\n",
    "precisions = []\n",
    "recalls = []\n",
    "f1s = []\n",
    "\n",
    "for i in np.arange(4):\n",
    "    y_pred_cur = y_preds[i]\n",
    "    y_test_cur = globals()['y_test'+str(i+1)]\n",
    "\n",
    "    # calculate the confusion matrix\n",
    "    conf_matrix = confusion_matrix(y_test_cur, y_pred_cur)\n",
    "    conf_matrices.append(conf_matrix)\n",
    "\n",
    "    # # calculate performance metrics\n",
    "    # precision = precision_score(y_test_cur, y_pred_cur)\n",
    "    # precisions.append(precision)\n",
    "    # recall = recall_score(y_test_cur, y_pred_cur)\n",
    "    # recalls.append(recall)\n",
    "    # f1 = f1_score(y_test_cur, y_pred_cur)\n",
    "    # f1s.append(f1)"
   ]
  },
  {
   "cell_type": "code",
   "execution_count": null,
   "metadata": {},
   "outputs": [
    {
     "name": "stdout",
     "output_type": "stream",
     "text": [
      "[[    5     0     0     0     0     0     0     0]\n",
      " [    0     3     0     0     2     0     0     2]\n",
      " [    0     0     8     0     0     0     0     0]\n",
      " [    0     0     0  2456    27    55    23    23]\n",
      " [    0     6     0    84  1175    20     8    36]\n",
      " [    1     2     1   174    86  2717    32    76]\n",
      " [    0     0     0    30    29   105  3314    16]\n",
      " [    0     1     0    70    72   135    39 50245]]\n",
      "[[    2     0     0     0     0     0     0     0]\n",
      " [    0     6     0     0     4     0     0     0]\n",
      " [    0     0     6     0     0     0     0     0]\n",
      " [    0     0     0  2406    30    49    19    21]\n",
      " [    0     7     0    81  1197    32     8    30]\n",
      " [    0     1     0   186    71  2717    37    64]\n",
      " [    0     0     0    47    26   119  3200    11]\n",
      " [    0     3     1    65    70   135    40 50387]]\n",
      "[[    3     0     0     1     0     0     0     0]\n",
      " [    0     7     0     0     1     0     0     2]\n",
      " [    0     0     9     0     0     0     0     0]\n",
      " [    0     0     0  2384    38    42    15    20]\n",
      " [    0    14     0    89  1208    29     7    35]\n",
      " [    2     0     1   178    73  2689    45    74]\n",
      " [    0     1     0    47    24    93  3157     9]\n",
      " [    0     1     0    74    86   141    31 50448]]\n",
      "[[    2     0     0     1     0     0     0     0]\n",
      " [    0     4     0     0     3     0     0     0]\n",
      " [    0     0     3     0     0     0     0     0]\n",
      " [    0     0     0  2384    28    37    15    24]\n",
      " [    0    10     0   101  1186    31    14    48]\n",
      " [    0     2     0   179    90  2673    45    79]\n",
      " [    0     0     0    52    32    95  3165    11]\n",
      " [    0     0     0    67    76   124    22 50475]]\n"
     ]
    }
   ],
   "source": [
    "for i in np.arange(4):\n",
    "    print(conf_matrices[i])"
   ]
  },
  {
   "cell_type": "code",
   "execution_count": null,
   "metadata": {},
   "outputs": [],
   "source": [
    "class_pers = 6\n",
    "\n",
    "conf_matrices_pers = [[]for i in range(4)]\n",
    "precisions_pers = []\n",
    "recalls_pers = []\n",
    "f1s_pers = []\n",
    "\n",
    "\n",
    "for i in np.arange(4):\n",
    "    conf_matrix = conf_matrices[i]\n",
    "\n",
    "    #print(conf_matrix)\n",
    "\n",
    "    tp = conf_matrix[class_pers][class_pers]\n",
    "    fn = sum(conf_matrix[class_pers][:class_pers]) + sum(conf_matrix[class_pers][class_pers+1:])\n",
    "    fp = sum([conf_matrix[i][class_pers] if i !=6 else 0 for i in range(len(conf_matrix))])\n",
    "    tn = sum([sum(conf_matrix[i]) for i in range(len(conf_matrix))]) - tp - fn - fp\n",
    "\n",
    "    conf_matrices_pers[i] = [[tp,fp], [fn,tn]]\n",
    "\n",
    "    # Compute Precision\n",
    "    precision = tp / (tp + fp)\n",
    "    precisions_pers.append(precision)\n",
    "\n",
    "    # Compute Recall\n",
    "    recall = tp / (tp + fn)\n",
    "    recalls_pers.append(recall)\n",
    "\n",
    "    # Compute F1-Score\n",
    "    f1_score = 2 * (precision * recall) / (precision + recall)\n",
    "    f1s_pers.append(f1_score)"
   ]
  },
  {
   "cell_type": "code",
   "execution_count": null,
   "metadata": {},
   "outputs": [
    {
     "name": "stdout",
     "output_type": "stream",
     "text": [
      "confusion  0  =  [[3314, 102], [180, 57482]]\n",
      "precision  0  =  0.9701405152224825\n",
      "recall  0  =  0.9484831139095592\n",
      "f1 score  0  =  0.9591895803183791\n",
      "confusion  1  =  [[3200, 104], [203, 57571]]\n",
      "precision  1  =  0.9685230024213075\n",
      "recall  1  =  0.940346752865119\n",
      "f1 score  1  =  0.9542269270910989\n",
      "confusion  2  =  [[3157, 98], [174, 57649]]\n",
      "precision  2  =  0.9698924731182795\n",
      "recall  2  =  0.9477634344040828\n",
      "f1 score  2  =  0.9587002733070148\n",
      "confusion  3  =  [[3165, 96], [190, 57627]]\n",
      "precision  3  =  0.9705611775528978\n",
      "recall  3  =  0.9433681073025335\n",
      "f1 score  3  =  0.9567714631197098\n",
      "\n",
      "The mean values for the metric are: \n",
      "mean precision 0.9697792920787418\n",
      "mean recall 0.9449903521203236\n",
      "mean f1 0.9572220609590507\n"
     ]
    }
   ],
   "source": [
    "for i in np.arange(4):\n",
    "    \n",
    "    print(\"confusion \", i ,\" = \",conf_matrices_pers[i])\n",
    "    print(\"precision \", i ,\" = \",precisions_pers[i])\n",
    "    print(\"recall \", i ,\" = \",recalls_pers[i])\n",
    "    print(\"f1 score \", i ,\" = \",f1s_pers[i])\n",
    "\n",
    "print(\"\")\n",
    "print(\"The mean values for the metric are: \")\n",
    "\n",
    "#mean_conf_matrix = np.mean(conf_matrices, axis=0)\n",
    "#print(mean_conf_matrix)\n",
    "\n",
    "# Calculate mean performance metrics\n",
    "mean_precision = np.mean(precisions_pers)\n",
    "mean_recall = np.mean(recalls_pers)\n",
    "mean_f1 = np.mean(f1s_pers)\n",
    "\n",
    "print(\"mean precision\", mean_precision)\n",
    "print(\"mean recall\", mean_recall)\n",
    "print(\"mean f1\", mean_f1)\n"
   ]
  },
  {
   "cell_type": "code",
   "execution_count": null,
   "metadata": {},
   "outputs": [
    {
     "name": "stdout",
     "output_type": "stream",
     "text": [
      "total_score  =  0.9808810046170471\n"
     ]
    },
    {
     "data": {
      "image/png": "[encoded data removed]",
      "text/plain": [
       "<Figure size 640x480 with 1 Axes>"
      ]
     },
     "metadata": {},
     "output_type": "display_data"
    }
   ],
   "source": [
    "\n",
    "y_preds_all = np.concatenate(y_preds)\n",
    "y_test_all = np.concatenate([globals()['y_test'+str(i+1)] for i in np.arange(4)])\n",
    "\n",
    "score_tot = 0\n",
    "length_tot = len(y_preds_all)\n",
    "for i in np.arange(length_tot):\n",
    "    if y_preds_all[i] == y_test_all[i]:\n",
    "        score_tot +=1\n",
    "\n",
    "print(\"total_score  = \", score_tot / length_tot)\n",
    "\n",
    "conf_matrix_total = confusion_matrix(y_test_all, y_preds_all)\n",
    "\n",
    "tp = conf_matrix_total[class_pers][class_pers]\n",
    "fn = sum(conf_matrix_total[class_pers][:class_pers]) + sum(conf_matrix_total[class_pers][class_pers+1:])\n",
    "fp = sum([conf_matrix_total[i][class_pers] if i !=6 else 0 for i in range(len(conf_matrix_total))])\n",
    "tn = sum([sum(conf_matrix_total[i]) for i in range(len(conf_matrix_total))]) - tp - fn - fp\n",
    "\n",
    "tpr = tp / (tp + fn)\n",
    "fpr = fp / (fp + tn)\n",
    "\n",
    "auc = (1 + tpr - fpr) / 2\n",
    "\n",
    "# Plot the ROC curve\n",
    "plt.plot([0, fpr, 1], [0, tpr, 1], marker='', linestyle='-',label= f'AUC = {auc:.2f}')\n",
    "plt.plot([0, 1], [0, 1], color='red', linestyle='--')\n",
    "plt.xlabel('False Positive Rate (FPR)')\n",
    "plt.ylabel('True Positive Rate (TPR)')\n",
    "plt.title('Receiver Operating Characteristic (ROC) Curve')\n",
    "plt.legend()\n",
    "plt.show()"
   ]
  },
  {
   "cell_type": "code",
   "execution_count": null,
   "metadata": {},
   "outputs": [],
   "source": []
  },
  {
   "cell_type": "code",
   "execution_count": null,
   "metadata": {},
   "outputs": [],
   "source": []
  },
  {
   "cell_type": "markdown",
   "metadata": {},
   "source": []
  }
 ],
 "metadata": {
  "kernelspec": {
   "display_name": "Python 3.8.9 64-bit",
   "language": "python",
   "name": "python3"
  },
  "language_info": {
   "codemirror_mode": {
    "name": "ipython",
    "version": 3
   },
   "file_extension": ".py",
   "mimetype": "text/x-python",
   "name": "python",
   "nbconvert_exporter": "python",
   "pygments_lexer": "ipython3",
   "version": "3.8.9"
  },
  "orig_nbformat": 4,
  "vscode": {
   "interpreter": {
    "hash": "31f2aee4e71d21fbe5cf8b01ff0e069b9275f58929596ceb00d14d90e3e16cd6"
   }
  }
 },
 "nbformat": 4,
 "nbformat_minor": 2
}
